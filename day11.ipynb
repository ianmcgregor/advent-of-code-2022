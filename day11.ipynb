{
 "cells": [
  {
   "cell_type": "code",
   "execution_count": 1,
   "metadata": {},
   "outputs": [
    {
     "name": "stdout",
     "output_type": "stream",
     "text": [
      "['Monkey 0:', 'Starting items: 71, 56, 50, 73', 'Operation: new = old * 11', 'Test: divisible by 13', 'If true: throw to monkey 1', 'If false: throw to monkey 7', '', 'Monkey 1:', 'Starting items: 70, 89, 82', 'Operation: new = old + 1', 'Test: divisible by 7', 'If true: throw to monkey 3', 'If false: throw to monkey 6', '', 'Monkey 2:', 'Starting items: 52, 95', 'Operation: new = old * old', 'Test: divisible by 3', 'If true: throw to monkey 5', 'If false: throw to monkey 4', '', 'Monkey 3:', 'Starting items: 94, 64, 69, 87, 70', 'Operation: new = old + 2', 'Test: divisible by 19', 'If true: throw to monkey 2', 'If false: throw to monkey 6', '', 'Monkey 4:', 'Starting items: 98, 72, 98, 53, 97, 51', 'Operation: new = old + 6', 'Test: divisible by 5', 'If true: throw to monkey 0', 'If false: throw to monkey 5', '', 'Monkey 5:', 'Starting items: 79', 'Operation: new = old + 7', 'Test: divisible by 2', 'If true: throw to monkey 7', 'If false: throw to monkey 0', '', 'Monkey 6:', 'Starting items: 77, 55, 63, 93, 66, 90, 88, 71', 'Operation: new = old * 7', 'Test: divisible by 11', 'If true: throw to monkey 2', 'If false: throw to monkey 4', '', 'Monkey 7:', 'Starting items: 54, 97, 87, 70, 59, 82, 59', 'Operation: new = old + 8', 'Test: divisible by 17', 'If true: throw to monkey 1', 'If false: throw to monkey 3']\n"
     ]
    }
   ],
   "source": [
    "# with open('test-input11.txt') as f:\n",
    "with open('input11.txt') as f:\n",
    "    input = [l.strip() for l in f.readlines()]\n",
    "\n",
    "print(input)"
   ]
  },
  {
   "cell_type": "code",
   "execution_count": 21,
   "metadata": {},
   "outputs": [],
   "source": [
    "monkeys = []\n",
    "i = 0\n",
    "while i < len(input):\n",
    "    # print(input[i])\n",
    "    itemsStr = input[i + 1].replace('Starting items: ', '').split(', ')\n",
    "    items = [int(item) for item in itemsStr]\n",
    "    # print(items)\n",
    "    ops = input[i + 2].replace('Operation: new = old ', '').split()\n",
    "    # print(ops)\n",
    "    test = int(input[i + 3].replace('Test: divisible by ', ''))\n",
    "    # print(test)\n",
    "    throwTo = [\n",
    "        int(input[i + 5].replace('If false: throw to monkey ', '')),\n",
    "        int(input[i + 4].replace('If true: throw to monkey ', ''))\n",
    "    ]\n",
    "    # print(throwTo)\n",
    "    monkeys.append([\n",
    "        items,\n",
    "        ops,\n",
    "        test,\n",
    "        throwTo,\n",
    "        0\n",
    "    ])\n",
    "    i+=7"
   ]
  },
  {
   "cell_type": "code",
   "execution_count": 3,
   "metadata": {},
   "outputs": [],
   "source": [
    "round = 0\n",
    "while round < 20:\n",
    "    for monkey in monkeys:\n",
    "        items, ops, test, throwTo, inspect = monkey\n",
    "        # print(items, ops, test, throwTo)\n",
    "\n",
    "        for worry in items:\n",
    "            monkey[4] += 1\n",
    "            opNum = str(ops[1]).isnumeric() and int(ops[1]) or worry\n",
    "            # print(opNum)\n",
    "            worry1 = ops[0] == '*' and worry * opNum or worry + opNum\n",
    "            # print(worry1)\n",
    "            worry2 = int(worry1 / 3)\n",
    "            # print(worry2)\n",
    "            testResult = worry2 % test == 0\n",
    "            throwToMonkey = throwTo[int(testResult)]\n",
    "            # print(worry, opNum, worry1, worry2, test, testResult, throwToMonkey)\n",
    "            monkeys[throwToMonkey][0].append(worry2)\n",
    "        \n",
    "        monkey[0] = []\n",
    "    \n",
    "    # print('round', round + 1)\n",
    "    # i = 0\n",
    "    # while i < len(monkeys):\n",
    "    #     print('monkey', i, monkeys[i][0])\n",
    "    #     i += 1\n",
    "    \n",
    "    round += 1\n",
    "        \n",
    "            "
   ]
  },
  {
   "cell_type": "code",
   "execution_count": 97,
   "metadata": {},
   "outputs": [
    {
     "name": "stdout",
     "output_type": "stream",
     "text": [
      "monkey 0 [10, 12, 14, 26, 34]\n",
      "monkey 1 [245, 93, 53, 199, 115]\n",
      "monkey 2 []\n",
      "monkey 3 []\n"
     ]
    }
   ],
   "source": [
    "i = 0\n",
    "while i < len(monkeys):\n",
    "    print('monkey', i, monkeys[i][0])\n",
    "    i += 1"
   ]
  },
  {
   "cell_type": "code",
   "execution_count": 4,
   "metadata": {},
   "outputs": [
    {
     "name": "stdout",
     "output_type": "stream",
     "text": [
      "monkey 0 inspected items 221 times\n",
      "monkey 1 inspected items 33 times\n",
      "monkey 2 inspected items 6 times\n",
      "monkey 3 inspected items 223 times\n",
      "monkey 4 inspected items 254 times\n",
      "monkey 5 inspected items 222 times\n",
      "monkey 6 inspected items 263 times\n",
      "monkey 7 inspected items 227 times\n"
     ]
    }
   ],
   "source": [
    "i = 0\n",
    "while i < len(monkeys):\n",
    "    print('monkey', i, 'inspected items', monkeys[i][4], 'times')\n",
    "    i += 1"
   ]
  },
  {
   "cell_type": "code",
   "execution_count": 5,
   "metadata": {},
   "outputs": [
    {
     "name": "stdout",
     "output_type": "stream",
     "text": [
      "66802\n"
     ]
    }
   ],
   "source": [
    "def sortByInpect (m):\n",
    "    return m[4]\n",
    "\n",
    "monkeys.sort(key=sortByInpect,reverse=True)\n",
    "# print(monkeys[0][4])\n",
    "# print(monkeys[1][4])\n",
    "monkeyBusiness = monkeys[0][4] * monkeys[1][4]\n",
    "print(monkeyBusiness)"
   ]
  },
  {
   "cell_type": "code",
   "execution_count": 22,
   "metadata": {},
   "outputs": [
    {
     "name": "stdout",
     "output_type": "stream",
     "text": [
      "2132878\n"
     ]
    }
   ],
   "source": [
    "maxMod = 1\n",
    "for monkey in monkeys:\n",
    "    maxMod = maxMod * monkey[2]\n",
    "\n",
    "round = 0\n",
    "while round < 10000:\n",
    "    for monkey in monkeys:\n",
    "        items, ops, test, throwTo, inspect = monkey\n",
    "\n",
    "        for worry in items:\n",
    "            monkey[4] += 1\n",
    "            opNum = str(ops[1]).isnumeric() and int(ops[1]) or worry\n",
    "            worry1 = ops[0] == '*' and worry * opNum or worry + opNum\n",
    "            worry2 = int(worry1 % maxMod)    \n",
    "            testResult = worry2 % test == 0\n",
    "            throwToMonkey = throwTo[int(testResult)]\n",
    "            monkeys[throwToMonkey][0].append(worry2)\n",
    "        \n",
    "        monkey[0] = []\n",
    "    \n",
    "    round += 1\n",
    "    \n",
    "monkeys.sort(key=sortByInpect,reverse=True)\n",
    "# print(monkeys[0][4])\n",
    "# print(monkeys[1][4])\n",
    "monkeyBusiness = monkeys[0][4] * monkeys[1][4]\n",
    "print(monkeyBusiness)"
   ]
  }
 ],
 "metadata": {
  "kernelspec": {
   "display_name": "Python 3",
   "language": "python",
   "name": "python3"
  },
  "language_info": {
   "codemirror_mode": {
    "name": "ipython",
    "version": 3
   },
   "file_extension": ".py",
   "mimetype": "text/x-python",
   "name": "python",
   "nbconvert_exporter": "python",
   "pygments_lexer": "ipython3",
   "version": "3.9.13"
  },
  "orig_nbformat": 4,
  "vscode": {
   "interpreter": {
    "hash": "b0fa6594d8f4cbf19f97940f81e996739fb7646882a419484c72d19e05852a7e"
   }
  }
 },
 "nbformat": 4,
 "nbformat_minor": 2
}
