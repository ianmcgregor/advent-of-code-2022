{
 "cells": [
  {
   "cell_type": "markdown",
   "metadata": {},
   "source": [
    "### --- Day 7: No Space Left On Device ---"
   ]
  },
  {
   "cell_type": "code",
   "execution_count": 56,
   "metadata": {},
   "outputs": [],
   "source": [
    "with open('input07.txt') as f:\n",
    "    lines = f.readlines()"
   ]
  },
  {
   "cell_type": "code",
   "execution_count": 57,
   "metadata": {},
   "outputs": [],
   "source": [
    "currentPath = ['root']\n",
    "paths = {}\n",
    "\n",
    "for line in lines:\n",
    "    parts = line.strip().split(' ')\n",
    "    \n",
    "    if parts[0] == '$' and parts[1] == 'cd' and parts[2] == '..':\n",
    "        currentPath.pop()\n",
    "    \n",
    "    if parts[0] == '$' and parts[1] == 'cd' and parts[2] != '..' and parts[2] != '/':\n",
    "        currentPath.append(parts[2])\n",
    "        \n",
    "    if parts[0].isnumeric():\n",
    "        i = 0\n",
    "        while i < len(currentPath):\n",
    "            path = '/'.join(currentPath[:i+1])\n",
    "            if not paths.get(path):\n",
    "                paths[path] = 0\n",
    "            paths[path] += int(parts[0])\n",
    "            i += 1\n",
    "            "
   ]
  },
  {
   "cell_type": "code",
   "execution_count": 58,
   "metadata": {},
   "outputs": [
    {
     "name": "stdout",
     "output_type": "stream",
     "text": [
      "1307902\n"
     ]
    }
   ],
   "source": [
    "total = 0\n",
    "\n",
    "for path in paths:\n",
    "    if (paths[path] <= 100000):\n",
    "        total += paths[path]\n",
    "\n",
    "print(total)"
   ]
  },
  {
   "cell_type": "code",
   "execution_count": 59,
   "metadata": {},
   "outputs": [
    {
     "name": "stdout",
     "output_type": "stream",
     "text": [
      "7068748\n"
     ]
    }
   ],
   "source": [
    "diskSize = 70000000\n",
    "unusedRequired = 30000000\n",
    "usedSpace = paths['root']\n",
    "availableSpace = diskSize - usedSpace\n",
    "requiredDeleted = unusedRequired - availableSpace\n",
    "\n",
    "spaceDeleted = diskSize\n",
    "\n",
    "for path in paths:\n",
    "    if (paths[path] >= requiredDeleted and paths[path] < spaceDeleted):\n",
    "        spaceDeleted = paths[path]\n",
    "        \n",
    "print(spaceDeleted)"
   ]
  }
 ],
 "metadata": {
  "kernelspec": {
   "display_name": "Python 3.9.13 64-bit",
   "language": "python",
   "name": "python3"
  },
  "language_info": {
   "codemirror_mode": {
    "name": "ipython",
    "version": 3
   },
   "file_extension": ".py",
   "mimetype": "text/x-python",
   "name": "python",
   "nbconvert_exporter": "python",
   "pygments_lexer": "ipython3",
   "version": "3.9.13"
  },
  "orig_nbformat": 4,
  "vscode": {
   "interpreter": {
    "hash": "b0fa6594d8f4cbf19f97940f81e996739fb7646882a419484c72d19e05852a7e"
   }
  }
 },
 "nbformat": 4,
 "nbformat_minor": 2
}
