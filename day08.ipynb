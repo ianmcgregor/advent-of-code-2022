{
 "cells": [
  {
   "attachments": {},
   "cell_type": "markdown",
   "metadata": {},
   "source": [
    "### --- Day 8: Treetop Tree House ---"
   ]
  },
  {
   "cell_type": "code",
   "execution_count": 2,
   "metadata": {},
   "outputs": [],
   "source": [
    "with open('input08.txt') as f:\n",
    "    lines = f.readlines()"
   ]
  },
  {
   "cell_type": "code",
   "execution_count": null,
   "metadata": {},
   "outputs": [],
   "source": [
    "grid = []\n",
    "\n",
    "for line in lines:\n",
    "    grid.append([int(x) for x in line.strip()])\n",
    "    \n",
    "print(grid)"
   ]
  },
  {
   "cell_type": "code",
   "execution_count": 20,
   "metadata": {},
   "outputs": [
    {
     "name": "stdout",
     "output_type": "stream",
     "text": [
      "1785\n"
     ]
    }
   ],
   "source": [
    "count = 0\n",
    "row = 0\n",
    "col = 0\n",
    "\n",
    "while row < len(grid):\n",
    "    while col < len(grid[row]):\n",
    "        if row == 0 or col == 0 or row == len(grid) - 1 or col == len(grid[row]) - 1:\n",
    "            count += 1\n",
    "        else:\n",
    "            height = grid[row][col]\n",
    "            # left\n",
    "            i = col - 1\n",
    "            left = True\n",
    "            while i > -1:\n",
    "                if grid[row][i] >= height:\n",
    "                    left = False\n",
    "                i -= 1\n",
    "            # right\n",
    "            i = col + 1\n",
    "            right = True\n",
    "            while i < len(grid[row]):\n",
    "                if grid[row][i] >= height:\n",
    "                    right = False\n",
    "                i += 1\n",
    "            # up\n",
    "            i = row - 1\n",
    "            up = True\n",
    "            while i > -1:\n",
    "                if grid[i][col] >= height:\n",
    "                    up = False\n",
    "                i -= 1\n",
    "            # down\n",
    "            i = row + 1\n",
    "            down = True\n",
    "            while i < len(grid):\n",
    "                if grid[i][col] >= height:\n",
    "                    down = False\n",
    "                i += 1\n",
    "            \n",
    "            if left or right or up or down:\n",
    "                count += 1\n",
    "                \n",
    "        col += 1\n",
    "    row += 1\n",
    "    col = 0\n",
    "                \n",
    "print(count)\n",
    "            \n",
    "        \n",
    "        \n",
    "        \n",
    "    "
   ]
  },
  {
   "cell_type": "code",
   "execution_count": 25,
   "metadata": {},
   "outputs": [
    {
     "name": "stdout",
     "output_type": "stream",
     "text": [
      "345168\n"
     ]
    }
   ],
   "source": [
    "score = 0\n",
    "row = 0\n",
    "col = 0\n",
    "\n",
    "while row < len(grid):\n",
    "    while col < len(grid[row]):\n",
    "        if row != 0 and col != 0 and row != len(grid) - 1 and col != len(grid[row]) - 1:\n",
    "            height = grid[row][col]\n",
    "            # left\n",
    "            i = col - 1\n",
    "            left = 0\n",
    "            while i > -1:\n",
    "                left += 1\n",
    "                if grid[row][i] >= height:\n",
    "                    break\n",
    "                i -= 1\n",
    "            # right\n",
    "            i = col + 1\n",
    "            right = 0\n",
    "            while i < len(grid[row]):\n",
    "                right += 1\n",
    "                if grid[row][i] >= height:\n",
    "                    break\n",
    "                i += 1\n",
    "            # up\n",
    "            i = row - 1\n",
    "            up = 0\n",
    "            while i > -1:\n",
    "                up += 1\n",
    "                if grid[i][col] >= height:\n",
    "                    break\n",
    "                i -= 1\n",
    "            # down\n",
    "            i = row + 1\n",
    "            down = 0\n",
    "            while i < len(grid):\n",
    "                down += 1\n",
    "                if grid[i][col] >= height:\n",
    "                    break\n",
    "                i += 1\n",
    "            \n",
    "            treeScore = left * right * up * down\n",
    "            if treeScore > score:\n",
    "                score = treeScore\n",
    "            \n",
    "        col += 1\n",
    "    row += 1\n",
    "    col = 0\n",
    "                \n",
    "print(score)\n",
    "            \n",
    "        \n",
    "        \n",
    "        \n",
    "    "
   ]
  }
 ],
 "metadata": {
  "kernelspec": {
   "display_name": "Python 3",
   "language": "python",
   "name": "python3"
  },
  "language_info": {
   "codemirror_mode": {
    "name": "ipython",
    "version": 3
   },
   "file_extension": ".py",
   "mimetype": "text/x-python",
   "name": "python",
   "nbconvert_exporter": "python",
   "pygments_lexer": "ipython3",
   "version": "3.9.13"
  },
  "orig_nbformat": 4,
  "vscode": {
   "interpreter": {
    "hash": "b0fa6594d8f4cbf19f97940f81e996739fb7646882a419484c72d19e05852a7e"
   }
  }
 },
 "nbformat": 4,
 "nbformat_minor": 2
}
