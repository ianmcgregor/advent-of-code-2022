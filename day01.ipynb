{
 "cells": [
  {
   "cell_type": "markdown",
   "metadata": {},
   "source": [
    "### --- Day 1: Calorie Counting ---\n",
    "\n",
    "Santa's reindeer typically eat regular reindeer food, but they need a lot of magical energy to deliver presents on Christmas. For that, their favorite snack is a special type of star fruit that only grows deep in the jungle. The Elves have brought you on their annual expedition to the grove where the fruit grows.\n",
    "\n",
    "To supply enough magical energy, the expedition needs to retrieve a minimum of fifty stars by December 25th. Although the Elves assure you that the grove has plenty of fruit, you decide to grab any fruit you see along the way, just in case.\n",
    "\n",
    "Collect stars by solving puzzles. Two puzzles will be made available on each day in the Advent calendar; the second puzzle is unlocked when you complete the first. Each puzzle grants one star. Good luck!\n",
    "\n",
    "The jungle must be too overgrown and difficult to navigate in vehicles or access from the air; the Elves' expedition traditionally goes on foot. As your boats approach land, the Elves begin taking inventory of their supplies. One important consideration is food - in particular, the number of Calories each Elf is carrying (your puzzle input).\n",
    "\n",
    "The Elves take turns writing down the number of Calories contained by the various meals, snacks, rations, etc. that they've brought with them, one item per line. Each Elf separates their own inventory from the previous Elf's inventory (if any) by a blank line.\n",
    "\n",
    "For example, suppose the Elves finish writing their items' Calories and end up with the following list:\n",
    "\n",
    "1000\n",
    "2000\n",
    "3000\n",
    "\n",
    "4000\n",
    "\n",
    "5000\n",
    "6000\n",
    "\n",
    "7000\n",
    "8000\n",
    "9000\n",
    "\n",
    "10000\n",
    "This list represents the Calories of the food carried by five Elves:\n",
    "\n",
    "The first Elf is carrying food with 1000, 2000, and 3000 Calories, a total of 6000 Calories.\n",
    "The second Elf is carrying one food item with 4000 Calories.\n",
    "The third Elf is carrying food with 5000 and 6000 Calories, a total of 11000 Calories.\n",
    "The fourth Elf is carrying food with 7000, 8000, and 9000 Calories, a total of 24000 Calories.\n",
    "The fifth Elf is carrying one food item with 10000 Calories.\n",
    "In case the Elves get hungry and need extra snacks, they need to know which Elf to ask: they'd like to know how many Calories are being carried by the Elf carrying the most Calories. In the example above, this is 24000 (carried by the fourth Elf).\n",
    "\n",
    "Find the Elf carrying the most Calories. How many total Calories is that Elf carrying?"
   ]
  },
  {
   "cell_type": "code",
   "execution_count": 24,
   "metadata": {},
   "outputs": [],
   "source": [
    "with open('input01.txt') as f:\n",
    "    lines = f.readlines()"
   ]
  },
  {
   "cell_type": "code",
   "execution_count": 25,
   "metadata": {},
   "outputs": [],
   "source": [
    "totals = [0];\n",
    "\n",
    "for line in lines:\n",
    "    if line.strip() == '':\n",
    "        totals.append(0);\n",
    "    else:\n",
    "        totals[len(totals) - 1] += int(line.strip());\n",
    "        \n"
   ]
  },
  {
   "cell_type": "code",
   "execution_count": 26,
   "metadata": {},
   "outputs": [
    {
     "name": "stdout",
     "output_type": "stream",
     "text": [
      "[71934, 69849, 69664, 69563, 68142, 67988, 67869, 67294, 66954, 66368, 66285, 65929, 65168, 65002, 64785, 64761, 63396, 63110, 61645, 61220, 61219, 61125, 60965, 60121, 60042, 59951, 59908, 59329, 59325, 59095, 59084, 59073, 58856, 58802, 58632, 58423, 58164, 58157, 58050, 57725, 57702, 57640, 57578, 57373, 57205, 56907, 56810, 56765, 56576, 56554, 56141, 56096, 55989, 55865, 55809, 55763, 55040, 54925, 54662, 54373, 54250, 54102, 54097, 54048, 53811, 53636, 53627, 53607, 53606, 53460, 53395, 53347, 53121, 52792, 52654, 52585, 52344, 52126, 51927, 51912, 51878, 51627, 51369, 51236, 51226, 51206, 51115, 51056, 51037, 50936, 50808, 50653, 50446, 50368, 50356, 50348, 50136, 49904, 49865, 49716, 49641, 49616, 49589, 49519, 49389, 49349, 49311, 49213, 49194, 49097, 49002, 49001, 48934, 48751, 48670, 48584, 48491, 48389, 48342, 48234, 48222, 48202, 48174, 48123, 47910, 47571, 47550, 47325, 47236, 47180, 47151, 47137, 47039, 46855, 46811, 46678, 46655, 46443, 46412, 46268, 46215, 46202, 46169, 46160, 46088, 46045, 46041, 46002, 45789, 45752, 45638, 45362, 45121, 45077, 44784, 44748, 44602, 44479, 44471, 44455, 44367, 44281, 44206, 44193, 44089, 44017, 43943, 43835, 43084, 42902, 42860, 42708, 42646, 42594, 42201, 42180, 41897, 41884, 41690, 41605, 41431, 41345, 41327, 41318, 41135, 41068, 41068, 41064, 41049, 41004, 40593, 40238, 40210, 40204, 40124, 39786, 39778, 39740, 39725, 39675, 39632, 39610, 39162, 38482, 38444, 38343, 38120, 38019, 37800, 37612, 37284, 37255, 36847, 36826, 36334, 36171, 35919, 35643, 35520, 35462, 35363, 35301, 34601, 34577, 34138, 33878, 32938, 32691, 32637, 32406, 31528, 31364, 30926, 30858, 30806, 30065, 28232, 28061, 25896, 23726, 22447, 20736, 19018, 18452, 17925, 15908, 15429, 12939, 9984, 8243, 8139]\n"
     ]
    }
   ],
   "source": [
    "totals.sort(reverse=True)\n",
    "print(totals)"
   ]
  },
  {
   "cell_type": "code",
   "execution_count": 27,
   "metadata": {},
   "outputs": [
    {
     "name": "stdout",
     "output_type": "stream",
     "text": [
      "71934\n"
     ]
    }
   ],
   "source": [
    "pt1 = totals[0]\n",
    "print(pt1)"
   ]
  },
  {
   "cell_type": "markdown",
   "metadata": {},
   "source": [
    "### --- Part Two ---\n",
    "\n",
    "By the time you calculate the answer to the Elves' question, they've already realized that the Elf carrying the most Calories of food might eventually run out of snacks.\n",
    "\n",
    "To avoid this unacceptable situation, the Elves would instead like to know the total Calories carried by the top three Elves carrying the most Calories. That way, even if one of those Elves runs out of snacks, they still have two backups.\n",
    "\n",
    "In the example above, the top three Elves are the fourth Elf (with 24000 Calories), then the third Elf (with 11000 Calories), then the fifth Elf (with 10000 Calories). The sum of the Calories carried by these three elves is 45000.\n",
    "\n",
    "Find the top three Elves carrying the most Calories. How many Calories are those Elves carrying in total?"
   ]
  },
  {
   "cell_type": "code",
   "execution_count": 28,
   "metadata": {},
   "outputs": [
    {
     "name": "stdout",
     "output_type": "stream",
     "text": [
      "211447\n"
     ]
    }
   ],
   "source": [
    "pt2 = totals[0] + totals[1] + totals[2]\n",
    "print(pt2)"
   ]
  }
 ],
 "metadata": {
  "kernelspec": {
   "display_name": "Python 3.9.13 64-bit",
   "language": "python",
   "name": "python3"
  },
  "language_info": {
   "codemirror_mode": {
    "name": "ipython",
    "version": 3
   },
   "file_extension": ".py",
   "mimetype": "text/x-python",
   "name": "python",
   "nbconvert_exporter": "python",
   "pygments_lexer": "ipython3",
   "version": "3.9.13"
  },
  "orig_nbformat": 4,
  "vscode": {
   "interpreter": {
    "hash": "b0fa6594d8f4cbf19f97940f81e996739fb7646882a419484c72d19e05852a7e"
   }
  }
 },
 "nbformat": 4,
 "nbformat_minor": 2
}
