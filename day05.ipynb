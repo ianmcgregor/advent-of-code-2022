{
 "cells": [
  {
   "cell_type": "markdown",
   "metadata": {},
   "source": [
    "### --- Day 5: Supply Stacks ---\n",
    "\n",
    "The expedition can depart as soon as the final supplies have been unloaded from the ships. Supplies are stored in stacks of marked crates, but because the needed supplies are buried under many other crates, the crates need to be rearranged.\n",
    "\n",
    "The ship has a giant cargo crane capable of moving crates between stacks. To ensure none of the crates get crushed or fall over, the crane operator will rearrange them in a series of carefully-planned steps. After the crates are rearranged, the desired crates will be at the top of each stack.\n",
    "\n",
    "The Elves don't want to interrupt the crane operator during this delicate procedure, but they forgot to ask her which crate will end up where, and they want to be ready to unload them as soon as possible so they can embark.\n",
    "\n",
    "They do, however, have a drawing of the starting stacks of crates and the rearrangement procedure (your puzzle input). For example:\n",
    "\n",
    "    [D]    \n",
    "[N] [C]    \n",
    "[Z] [M] [P]\n",
    " 1   2   3 \n",
    "\n",
    "move 1 from 2 to 1\n",
    "move 3 from 1 to 3\n",
    "move 2 from 2 to 1\n",
    "move 1 from 1 to 2\n",
    "In this example, there are three stacks of crates. Stack 1 contains two crates: crate Z is on the bottom, and crate N is on top. Stack 2 contains three crates; from bottom to top, they are crates M, C, and D. Finally, stack 3 contains a single crate, P.\n",
    "\n",
    "Then, the rearrangement procedure is given. In each step of the procedure, a quantity of crates is moved from one stack to a different stack. In the first step of the above rearrangement procedure, one crate is moved from stack 2 to stack 1, resulting in this configuration:\n",
    "\n",
    "[D]        \n",
    "[N] [C]    \n",
    "[Z] [M] [P]\n",
    " 1   2   3 \n",
    "In the second step, three crates are moved from stack 1 to stack 3. Crates are moved one at a time, so the first crate to be moved (D) ends up below the second and third crates:\n",
    "\n",
    "        [Z]\n",
    "        [N]\n",
    "    [C] [D]\n",
    "    [M] [P]\n",
    " 1   2   3\n",
    "Then, both crates are moved from stack 2 to stack 1. Again, because crates are moved one at a time, crate C ends up below crate M:\n",
    "\n",
    "        [Z]\n",
    "        [N]\n",
    "[M]     [D]\n",
    "[C]     [P]\n",
    " 1   2   3\n",
    "Finally, one crate is moved from stack 1 to stack 2:\n",
    "\n",
    "        [Z]\n",
    "        [N]\n",
    "        [D]\n",
    "[C] [M] [P]\n",
    " 1   2   3\n",
    "The Elves just need to know which crate will end up on top of each stack; in this example, the top crates are C in stack 1, M in stack 2, and Z in stack 3, so you should combine these together and give the Elves the message CMZ.\n",
    "\n",
    "After the rearrangement procedure completes, what crate ends up on top of each stack?"
   ]
  },
  {
   "cell_type": "code",
   "execution_count": 19,
   "metadata": {},
   "outputs": [],
   "source": [
    "with open('input05.txt') as f:\n",
    "    lines = f.readlines()"
   ]
  },
  {
   "cell_type": "code",
   "execution_count": 29,
   "metadata": {},
   "outputs": [
    {
     "name": "stdout",
     "output_type": "stream",
     "text": [
      "[['B', 'G', 'S', 'C'], ['T', 'M', 'W', 'H', 'J', 'N', 'V', 'G'], ['M', 'Q', 'S'], ['B', 'S', 'L', 'T', 'W', 'N', 'M'], ['J', 'Z', 'F', 'T', 'V', 'G', 'W', 'P'], ['C', 'T', 'B', 'G', 'Q', 'H', 'S'], ['T', 'J', 'P', 'B', 'W'], ['G', 'D', 'C', 'Z', 'F', 'T', 'Q', 'M'], ['N', 'S', 'H', 'B', 'P', 'F']]\n"
     ]
    }
   ],
   "source": [
    "#     [G]         [P]         [M]    \n",
    "#     [V]     [M] [W] [S]     [Q]    \n",
    "#     [N]     [N] [G] [H]     [T] [F]\n",
    "#     [J]     [W] [V] [Q] [W] [F] [P]\n",
    "# [C] [H]     [T] [T] [G] [B] [Z] [B]\n",
    "# [S] [W] [S] [L] [F] [B] [P] [C] [H]\n",
    "# [G] [M] [Q] [S] [Z] [T] [J] [D] [S]\n",
    "# [B] [T] [M] [B] [J] [C] [T] [G] [N]\n",
    "#  1   2   3   4   5   6   7   8   9 \n",
    "\n",
    "def getStacks (): \n",
    "  return [\n",
    "    list('BGSC'),\n",
    "    list('TMWHJNVG'),\n",
    "    list('MQS'),\n",
    "    list('BSLTWNM'),\n",
    "    list('JZFTVGWP'),\n",
    "    list('CTBGQHS'),\n",
    "    list('TJPBW'),\n",
    "    list('GDCZFTQM'),\n",
    "    list('NSHBPF'),\n",
    "  ]\n",
    "\n",
    "stacks = getStacks()\n",
    "print(stacks)"
   ]
  },
  {
   "cell_type": "code",
   "execution_count": 30,
   "metadata": {},
   "outputs": [
    {
     "name": "stdout",
     "output_type": "stream",
     "text": [
      "CFFHVVHNC\n"
     ]
    }
   ],
   "source": [
    "stacks = getStacks()\n",
    "\n",
    "for line in lines:\n",
    "    # move 2 from 4 to 2\n",
    "    parts = line.strip().split(sep = ' ')\n",
    "    count = int(parts[1])\n",
    "    moveFrom = int(parts[3]) - 1\n",
    "    moveTo = int(parts[5]) - 1\n",
    "    # print(parts, count, moveFrom, moveTo)\n",
    "    for i in range(count):\n",
    "        crate = stacks[moveFrom].pop()\n",
    "        # print('moving', crate, 'from', moveFrom, 'to', moveTo)\n",
    "        stacks[moveTo].append(crate)\n",
    "        \n",
    "output = ''\n",
    "for stack in stacks:\n",
    "    output += stack[len(stack) - 1]\n",
    "    \n",
    "print(output)"
   ]
  },
  {
   "cell_type": "markdown",
   "metadata": {},
   "source": [
    "### --- Part Two ---\n",
    "\n",
    "As you watch the crane operator expertly rearrange the crates, you notice the process isn't following your prediction.\n",
    "\n",
    "Some mud was covering the writing on the side of the crane, and you quickly wipe it away. The crane isn't a CrateMover 9000 - it's a CrateMover 9001.\n",
    "\n",
    "The CrateMover 9001 is notable for many new and exciting features: air conditioning, leather seats, an extra cup holder, and the ability to pick up and move multiple crates at once.\n",
    "\n",
    "Again considering the example above, the crates begin in the same configuration:\n",
    "\n",
    "    [D]    \n",
    "[N] [C]    \n",
    "[Z] [M] [P]\n",
    " 1   2   3 \n",
    "Moving a single crate from stack 2 to stack 1 behaves the same as before:\n",
    "\n",
    "[D]        \n",
    "[N] [C]    \n",
    "[Z] [M] [P]\n",
    " 1   2   3 \n",
    "However, the action of moving three crates from stack 1 to stack 3 means that those three moved crates stay in the same order, resulting in this new configuration:\n",
    "\n",
    "        [D]\n",
    "        [N]\n",
    "    [C] [Z]\n",
    "    [M] [P]\n",
    " 1   2   3\n",
    "Next, as both crates are moved from stack 2 to stack 1, they retain their order as well:\n",
    "\n",
    "        [D]\n",
    "        [N]\n",
    "[C]     [Z]\n",
    "[M]     [P]\n",
    " 1   2   3\n",
    "Finally, a single crate is still moved from stack 1 to stack 2, but now it's crate C that gets moved:\n",
    "\n",
    "        [D]\n",
    "        [N]\n",
    "        [Z]\n",
    "[M] [C] [P]\n",
    " 1   2   3\n",
    "In this example, the CrateMover 9001 has put the crates in a totally different order: MCD.\n",
    "\n",
    "Before the rearrangement process finishes, update your simulation so that the Elves know where they should stand to be ready to unload the final supplies. After the rearrangement procedure completes, what crate ends up on top of each stack?"
   ]
  },
  {
   "cell_type": "code",
   "execution_count": 31,
   "metadata": {},
   "outputs": [
    {
     "name": "stdout",
     "output_type": "stream",
     "text": [
      "FSZWBPTBG\n"
     ]
    }
   ],
   "source": [
    "stacks = getStacks()\n",
    "\n",
    "for line in lines:\n",
    "    # move 2 from 4 to 2\n",
    "    parts = line.strip().split(sep = ' ')\n",
    "    count = int(parts[1])\n",
    "    moveFrom = int(parts[3]) - 1\n",
    "    moveTo = int(parts[5]) - 1\n",
    "    # print(parts, count, moveFrom, moveTo)\n",
    "    while count > 0:\n",
    "        crate = stacks[moveFrom].pop(-count)\n",
    "        # print('moving', crate, 'from', moveFrom, 'to', moveTo)\n",
    "        stacks[moveTo].append(crate)\n",
    "        count -= 1\n",
    "        \n",
    "output2 = ''\n",
    "for stack in stacks:\n",
    "    output2 += stack[len(stack) - 1]\n",
    "    \n",
    "print(output2)"
   ]
  }
 ],
 "metadata": {
  "kernelspec": {
   "display_name": "Python 3.9.13 64-bit",
   "language": "python",
   "name": "python3"
  },
  "language_info": {
   "codemirror_mode": {
    "name": "ipython",
    "version": 3
   },
   "file_extension": ".py",
   "mimetype": "text/x-python",
   "name": "python",
   "nbconvert_exporter": "python",
   "pygments_lexer": "ipython3",
   "version": "3.9.13"
  },
  "orig_nbformat": 4,
  "vscode": {
   "interpreter": {
    "hash": "b0fa6594d8f4cbf19f97940f81e996739fb7646882a419484c72d19e05852a7e"
   }
  }
 },
 "nbformat": 4,
 "nbformat_minor": 2
}
