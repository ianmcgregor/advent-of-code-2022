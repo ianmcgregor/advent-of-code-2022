{
 "cells": [
  {
   "attachments": {},
   "cell_type": "markdown",
   "metadata": {},
   "source": [
    "### --- Day 10: Cathode-Ray Tube ---\n",
    "\n",
    "<https://adventofcode.com/2022/day/10>"
   ]
  },
  {
   "cell_type": "code",
   "execution_count": 89,
   "metadata": {},
   "outputs": [],
   "source": [
    "with open('input10.txt') as f:\n",
    "    operations = [l.strip() for l in f.readlines()]"
   ]
  },
  {
   "cell_type": "code",
   "execution_count": 90,
   "metadata": {},
   "outputs": [],
   "source": [
    "x = 1\n",
    "values = [x]\n",
    "cycles = []\n",
    "\n",
    "for op in operations:\n",
    "    instructions = op.split()\n",
    "    cycles.append(instructions[0])\n",
    "    if instructions[0] == 'addx':\n",
    "        cycles.append(instructions[1])\n",
    "\n",
    "for cycle in cycles:\n",
    "    if cycle.lstrip('+-').isnumeric():\n",
    "        x += int(cycle)\n",
    "    values.append(x)"
   ]
  },
  {
   "cell_type": "code",
   "execution_count": 91,
   "metadata": {},
   "outputs": [
    {
     "name": "stdout",
     "output_type": "stream",
     "text": [
      "20 10 200\n",
      "60 21 1260\n",
      "100 21 2100\n",
      "140 17 2380\n",
      "180 17 3060\n",
      "220 17 3740\n",
      "total 12740\n"
     ]
    }
   ],
   "source": [
    "total = 0\n",
    "i = 19\n",
    "while i < len(values):\n",
    "    num = i + 1\n",
    "    print(num, values[i], num * values[i])\n",
    "    total += num * values[i]\n",
    "    i += 40\n",
    "\n",
    "print('total', total)"
   ]
  },
  {
   "cell_type": "code",
   "execution_count": 92,
   "metadata": {},
   "outputs": [
    {
     "data": {
      "text/html": [
       "\n",
       "<style>\n",
       "    .output-plaintext, .output-stream, .output {\n",
       "        font-family: Fira Code; # Any monospaced font should work\n",
       "        line-height: 1.3 !important;\n",
       "        font-size: 14px !important;\n",
       "    }\n",
       "</style>\n"
      ],
      "text/plain": [
       "<IPython.core.display.HTML object>"
      ]
     },
     "execution_count": 92,
     "metadata": {},
     "output_type": "execute_result"
    }
   ],
   "source": [
    "# make it monospaced! https://github.com/microsoft/vscode/issues/144417\n",
    "from IPython.core.display import HTML\n",
    "HTML(r\"\"\"\n",
    "<style>\n",
    "    .output-plaintext, .output-stream, .output {\n",
    "        font-family: Fira Code; # Any monospaced font should work\n",
    "        line-height: 1.3 !important;\n",
    "        font-size: 14px !important;\n",
    "    }\n",
    "</style>\n",
    "\"\"\")"
   ]
  },
  {
   "cell_type": "code",
   "execution_count": 100,
   "metadata": {},
   "outputs": [
    {
     "name": "stdout",
     "output_type": "stream",
     "text": [
      "###  ###  ###   ##  ###   ##   ##  #### \n",
      "#  # #  # #  # #  # #  # #  # #  # #    \n",
      "#  # ###  #  # #  # #  # #  # #    ###  \n",
      "###  #  # ###  #### ###  #### # ## #    \n",
      "# #  #  # #    #  # # #  #  # #  # #    \n",
      "#  # ###  #    #  # #  # #  #  ### #    \n"
     ]
    }
   ],
   "source": [
    "image = ''\n",
    "cx = 0\n",
    "i = 0\n",
    "while i < (len(values) - 1):\n",
    "    if (i > 0 and i % 40 == 0):\n",
    "        cx = 0\n",
    "        image += '\\n'\n",
    "    \n",
    "    x = values[i]\n",
    "    if x == cx or x - 1 == cx or x + 1 == cx:\n",
    "        image += \"#\"\n",
    "    else:\n",
    "        image += \" \"\n",
    "    cx += 1\n",
    "    i += 1\n",
    "    \n",
    "print(image)"
   ]
  }
 ],
 "metadata": {
  "kernelspec": {
   "display_name": "Python 3",
   "language": "python",
   "name": "python3"
  },
  "language_info": {
   "codemirror_mode": {
    "name": "ipython",
    "version": 3
   },
   "file_extension": ".py",
   "mimetype": "text/x-python",
   "name": "python",
   "nbconvert_exporter": "python",
   "pygments_lexer": "ipython3",
   "version": "3.9.13"
  },
  "orig_nbformat": 4,
  "vscode": {
   "interpreter": {
    "hash": "b0fa6594d8f4cbf19f97940f81e996739fb7646882a419484c72d19e05852a7e"
   }
  }
 },
 "nbformat": 4,
 "nbformat_minor": 2
}
