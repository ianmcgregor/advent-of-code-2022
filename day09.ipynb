{
 "cells": [
  {
   "attachments": {},
   "cell_type": "markdown",
   "metadata": {},
   "source": [
    "### --- Day 9: Rope Bridge ---"
   ]
  },
  {
   "cell_type": "code",
   "execution_count": 23,
   "metadata": {},
   "outputs": [],
   "source": [
    "with open('input09.txt') as f:\n",
    "    lines = f.readlines()"
   ]
  },
  {
   "cell_type": "code",
   "execution_count": 31,
   "metadata": {},
   "outputs": [
    {
     "name": "stdout",
     "output_type": "stream",
     "text": [
      "6337\n"
     ]
    }
   ],
   "source": [
    "head = [0, 0]\n",
    "tail = [0, 0]\n",
    "track = set()\n",
    "        \n",
    "for line in lines:\n",
    "    parts = line.strip().split(' ')\n",
    "    steps = int(parts[1])\n",
    "    dir = parts[0]\n",
    "    for i in range(0, steps):\n",
    "        if dir == 'L':\n",
    "            head[0] -= 1\n",
    "        elif dir == 'R':\n",
    "            head[0] += 1\n",
    "        elif dir == 'U':\n",
    "            head[1] += 1\n",
    "        elif dir == 'D':\n",
    "            head[1] -= 1\n",
    "        \n",
    "        dx = head[0] - tail[0]\n",
    "        dy = head[1] - tail[1]\n",
    "        distSq = dx * dx + dy * dy\n",
    "        if (distSq > 2):\n",
    "            if dx != 0:\n",
    "                tail[0] += dx / abs(dx)\n",
    "            if dy != 0:\n",
    "                tail[1] += dy / abs(dy)\n",
    "            track.add(str(tail))\n",
    "        \n",
    "print(len(track))\n"
   ]
  },
  {
   "cell_type": "code",
   "execution_count": 32,
   "metadata": {},
   "outputs": [
    {
     "name": "stdout",
     "output_type": "stream",
     "text": [
      "2455\n"
     ]
    }
   ],
   "source": [
    "rope = [[0, 0] for i in range(10)] \n",
    "head = rope[0]\n",
    "track = set()\n",
    "\n",
    "# lines = [\n",
    "#     'R 5',\n",
    "#     'U 8',\n",
    "#     'L 8',\n",
    "#     'D 3',\n",
    "#     'R 17',\n",
    "#     'D 10',\n",
    "#     'L 25',\n",
    "#     'U 20'\n",
    "# ]\n",
    "        \n",
    "for line in lines:\n",
    "    parts = line.strip().split(' ')\n",
    "    steps = int(parts[1])\n",
    "    dir = parts[0]\n",
    "    for i in range(0, steps):\n",
    "        if dir == 'L':\n",
    "            head[0] -= 1\n",
    "        elif dir == 'R':\n",
    "            head[0] += 1\n",
    "        elif dir == 'U':\n",
    "            head[1] += 1\n",
    "        elif dir == 'D':\n",
    "            head[1] -= 1\n",
    "        \n",
    "        i = 1\n",
    "        while i < len(rope):\n",
    "            knot = rope[i]\n",
    "            prev = rope[i - 1]\n",
    "            dx = prev[0] - knot[0]\n",
    "            dy = prev[1] - knot[1]\n",
    "\n",
    "            distSq = dx * dx + dy * dy\n",
    "            if (distSq > 2):\n",
    "                if dx != 0:\n",
    "                    knot[0] += dx / abs(dx)\n",
    "                if dy != 0:\n",
    "                    knot[1] += dy / abs(dy)\n",
    "            if i == len(rope) - 1:\n",
    "                track.add(str(knot))\n",
    "            i += 1\n",
    "\n",
    "print(len(track))"
   ]
  }
 ],
 "metadata": {
  "kernelspec": {
   "display_name": "Python 3",
   "language": "python",
   "name": "python3"
  },
  "language_info": {
   "codemirror_mode": {
    "name": "ipython",
    "version": 3
   },
   "file_extension": ".py",
   "mimetype": "text/x-python",
   "name": "python",
   "nbconvert_exporter": "python",
   "pygments_lexer": "ipython3",
   "version": "3.9.13"
  },
  "orig_nbformat": 4,
  "vscode": {
   "interpreter": {
    "hash": "b0fa6594d8f4cbf19f97940f81e996739fb7646882a419484c72d19e05852a7e"
   }
  }
 },
 "nbformat": 4,
 "nbformat_minor": 2
}
